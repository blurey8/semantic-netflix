{
 "cells": [
  {
   "cell_type": "markdown",
   "metadata": {},
   "source": [
    "# Sample Query Runner\n",
    "\n",
    "Dirancang oleh: Tim Skulite  \n",
    "  \n",
    "Program ini akan berisi contoh penerapan pengambilan data secara lokal menggunakan Apache Jena Fuseki dan remote menggunakan data dari DBPedia / Wikidata"
   ]
  },
  {
   "cell_type": "markdown",
   "metadata": {},
   "source": [
    "## Query dari Server Lokal (Jena Fuseki)\n",
    "\n",
    "Jena Fuseki mendukung protokol HTTP untuk mengambil data yang ada didalamnya. Anggaplah Jena Fuseki seperti SQL Server (PostgreSQL, MySQL, lainnya) dan berkas berformat .ttl adalah berkas databasenya (misalnya .sqlite).  \n",
    "  \n",
    "Pertama harus dijalankan terlebih dahulu Jena Fusekinya. Setelah itu bisa mengambil datanya via HTTP dan kembaliannya adalah sebuah response dengan body-nya adalah datanya. Untuk menjalankan Jena Fuseki bisa menggunakan perintah di terminal:\n",
    "\n",
    "```\n",
    "cd fuseki/\n",
    "./fuseki-server --file=../dataset/movies.ttl /ds\n",
    "```\n",
    "\n",
    "Proses ini akan membentuk in-memory instance dan tentunya hanya mendukung operasi READ (belum mencoba operasi lainnya). Setelah menjalankan Jena Fuseki, silakan lanjutkan menjalankan cell dibawah."
   ]
  },
  {
   "cell_type": "code",
   "execution_count": 1,
   "metadata": {},
   "outputs": [],
   "source": [
    "import json\n",
    "import requests"
   ]
  },
  {
   "cell_type": "code",
   "execution_count": 2,
   "metadata": {},
   "outputs": [],
   "source": [
    "# Fungsi untuk menjalankan query\n",
    "local_server_url = 'http://localhost:3030/ds/query'\n",
    "\n",
    "def get_response_from_local(query_to_send):\n",
    "    try:\n",
    "        response = requests.post(local_server_url, data={'query': query_to_send})\n",
    "        return response.json()['results']['bindings']\n",
    "    except ValueError:\n",
    "        print(\"JSON Bermasalah atau Jena Fuseki Return 400\")\n",
    "        return None\n",
    "    except:\n",
    "        print(\"Jena Fuseki belum dijalankan\")\n",
    "        return None"
   ]
  },
  {
   "cell_type": "code",
   "execution_count": 3,
   "metadata": {},
   "outputs": [
    {
     "data": {
      "text/plain": [
       "[{'s': {'type': 'uri', 'value': 'http://skulite.org/snr/The_L_Word'},\n",
       "  'p': {'type': 'uri', 'value': 'http://skulite.org/snp/country'},\n",
       "  'o': {'type': 'literal', 'value': 'Canada, United States'}},\n",
       " {'s': {'type': 'uri', 'value': 'http://skulite.org/snr/The_L_Word'},\n",
       "  'p': {'type': 'uri', 'value': 'http://skulite.org/snp/releaseYear'},\n",
       "  'o': {'type': 'literal', 'value': '2009'}},\n",
       " {'s': {'type': 'uri', 'value': 'http://skulite.org/snr/The_L_Word'},\n",
       "  'p': {'type': 'uri', 'value': 'http://skulite.org/snp/category'},\n",
       "  'o': {'type': 'literal', 'value': 'TV-Show'}},\n",
       " {'s': {'type': 'uri', 'value': 'http://skulite.org/snr/The_L_Word'},\n",
       "  'p': {'type': 'uri', 'value': 'http://skulite.org/snp/title'},\n",
       "  'o': {'type': 'literal', 'value': 'The L Word'}},\n",
       " {'s': {'type': 'uri', 'value': 'http://skulite.org/snr/The_L_Word'},\n",
       "  'p': {'type': 'uri', 'value': 'http://skulite.org/snp/dateAdded'},\n",
       "  'o': {'type': 'literal', 'value': '2018-03-20'}}]"
      ]
     },
     "execution_count": 3,
     "metadata": {},
     "output_type": "execute_result"
    }
   ],
   "source": [
    "# Contoh query mendapatkan triple S P O dari server lokal\n",
    "get_response_from_local('SELECT * {?s ?p ?o} LIMIT 5')"
   ]
  },
  {
   "cell_type": "markdown",
   "metadata": {},
   "source": [
    "## Query dari Server Remote (DBpedia / Wikidata)\n",
    "\n",
    "Pengambilan data secara remote dapat menggunakan bantuan library bernama RDFLib. Pada contoh kali ini, akan dilakukan pengambilan data Michael Jackson dari Wikidata"
   ]
  },
  {
   "cell_type": "code",
   "execution_count": 4,
   "metadata": {},
   "outputs": [
    {
     "name": "stdout",
     "output_type": "stream",
     "text": [
      "Requirement already satisfied: rdflib in /home/diptadipsi/anaconda3/lib/python3.8/site-packages (5.0.0)\n",
      "Requirement already satisfied: isodate in /home/diptadipsi/anaconda3/lib/python3.8/site-packages (from rdflib) (0.6.0)\n",
      "Requirement already satisfied: six in /home/diptadipsi/anaconda3/lib/python3.8/site-packages (from rdflib) (1.15.0)\n",
      "Requirement already satisfied: pyparsing in /home/diptadipsi/anaconda3/lib/python3.8/site-packages (from rdflib) (2.4.7)\n"
     ]
    }
   ],
   "source": [
    "!pip install rdflib"
   ]
  },
  {
   "cell_type": "code",
   "execution_count": 5,
   "metadata": {},
   "outputs": [],
   "source": [
    "# Import library yang diperlukan\n",
    "from rdflib import Graph, URIRef\n",
    "from rdflib.namespace import RDFS"
   ]
  },
  {
   "cell_type": "code",
   "execution_count": 6,
   "metadata": {},
   "outputs": [
    {
     "data": {
      "text/plain": [
       "<Graph identifier=Na631bb72d3f14677859e0562b59068dd (<class 'rdflib.graph.Graph'>)>"
      ]
     },
     "execution_count": 6,
     "metadata": {},
     "output_type": "execute_result"
    }
   ],
   "source": [
    "# Melakukan import terhadap suatu berkas entity yang akan menjadi graf\n",
    "g = Graph()\n",
    "g.parse('https://www.wikidata.org/wiki/Special:EntityData/Q2831.ttl')"
   ]
  },
  {
   "cell_type": "code",
   "execution_count": 7,
   "metadata": {},
   "outputs": [
    {
     "data": {
      "text/plain": [
       "110940"
      ]
     },
     "execution_count": 7,
     "metadata": {},
     "output_type": "execute_result"
    }
   ],
   "source": [
    "# Banyaknya elemen\n",
    "len(g)"
   ]
  },
  {
   "cell_type": "code",
   "execution_count": 8,
   "metadata": {},
   "outputs": [
    {
     "name": "stdout",
     "output_type": "stream",
     "text": [
      "Michael Joe Jackson <-> et\n",
      "Regele muzicii pop <-> ro\n",
      "邁克爾傑克遜 <-> zh-hant\n",
      "Michael Joe Jackson <-> smj\n",
      "MJ <-> de\n"
     ]
    }
   ],
   "source": [
    "# Menjalankan query sederhana\n",
    "qres = g.query(\\\n",
    "'''\n",
    "SELECT ?label\n",
    "WHERE {\n",
    "wd:Q2831 skos:altLabel ?label .\n",
    "}\n",
    "LIMIT 5\n",
    "''')\n",
    "\n",
    "for label, *_ in qres:\n",
    "    print(label.value, \"<->\", label.language)"
   ]
  },
  {
   "cell_type": "markdown",
   "metadata": {},
   "source": [
    "## Query Secara Gabungan\n",
    "\n",
    "Pada bagian ini akan dicoba mengambil data film yang sudah ada di dataset lokal, kemudian menambahkan informasi yang belum ada dari sumber remote yang kemudian hasil akhir pengolahan akan ditampilkan ke pengguna  \n",
    "  \n",
    "Ada 4 tahap yang akan coba dicover\n",
    "\n",
    "1. Mengambil beberapa film + id nya yang tersedia secara lokal\n",
    "2. Menampilkan sedikit detail dari film dataset lokal berdasarkan ID\n",
    "3. Menampilkan film tertentu secara remote berdasarkan ID dari data lokal\n",
    "4. Mengambil informasi yang  kurang dari film tersebut secara remote\n",
    "5. Menampilkan kepada pengguna"
   ]
  },
  {
   "cell_type": "code",
   "execution_count": 9,
   "metadata": {},
   "outputs": [],
   "source": [
    "# Mendefinisikan URI untuk query (INI PENTING)\n",
    "PREFIXES = \\\n",
    "'''\n",
    "PREFIX snr: <http://skulite.org/snr/>\n",
    "PREFIX snp: <http://skulite.org/snp/>\n",
    "PREFIX owl: <http://www.w3.org/2002/07/owl#>\n",
    "PREFIX rdf: <http://www.w3.org/1999/02/22-rdf-syntax-ns#>\n",
    "PREFIX rdfs: <http://www.w3.org/2000/01/rdf-schema#>\n",
    "PREFIX xsd: <http://www.w3.org/2001/XMLSchema#>\n",
    "'''"
   ]
  },
  {
   "cell_type": "code",
   "execution_count": 10,
   "metadata": {},
   "outputs": [
    {
     "data": {
      "text/plain": [
       "[{'individual': {'type': 'uri', 'value': 'http://skulite.org/snr/The_L_Word'},\n",
       "  'id': {'type': 'literal', 'value': '70136114'}},\n",
       " {'individual': {'type': 'uri',\n",
       "   'value': 'http://skulite.org/snr/A_Murder_in_the_Park'},\n",
       "  'id': {'type': 'literal', 'value': '80044562'}},\n",
       " {'individual': {'type': 'uri', 'value': 'http://skulite.org/snr/Collateral'},\n",
       "  'id': {'type': 'literal', 'value': '80185171'}},\n",
       " {'individual': {'type': 'uri', 'value': 'http://skulite.org/snr/Jailbreak'},\n",
       "  'id': {'type': 'literal', 'value': '80990658'}},\n",
       " {'individual': {'type': 'uri', 'value': 'http://skulite.org/snr/Good_Witch'},\n",
       "  'id': {'type': 'literal', 'value': '80036416'}}]"
      ]
     },
     "execution_count": 10,
     "metadata": {},
     "output_type": "execute_result"
    }
   ],
   "source": [
    "# 1. Mengambil beberapa film + id nya dari dataset lokal\n",
    "\n",
    "query = \\\n",
    "'''\n",
    "SELECT *\n",
    "WHERE { \n",
    "    ?individual rdf:type snr:Content .\n",
    "    ?individual snp:id ?id\n",
    "}\n",
    "LIMIT 5\n",
    "'''\n",
    "\n",
    "get_response_from_local(PREFIXES + query)"
   ]
  },
  {
   "cell_type": "code",
   "execution_count": 11,
   "metadata": {},
   "outputs": [
    {
     "data": {
      "text/plain": [
       "[{'title': {'type': 'literal', 'value': 'The L Word'},\n",
       "  'description': {'type': 'literal',\n",
       "   'value': 'This trailblazing series follows the tangled lives and ever-changing relationships among a close-knit group of lesbians who call Los Angeles home.'},\n",
       "  'releaseYear': {'type': 'literal', 'value': '2009'},\n",
       "  'category': {'type': 'literal', 'value': 'TV-Show'}}]"
      ]
     },
     "execution_count": 11,
     "metadata": {},
     "output_type": "execute_result"
    }
   ],
   "source": [
    "# 2. Menampilkan sedikit detail dari film dataset lokal berdasarkan ID. Contoh: use case ketika user klik salah satu film dengan ID: 70136114\n",
    "\n",
    "query = \\\n",
    "'''\n",
    "SELECT ?title ?description ?releaseYear ?category\n",
    "WHERE { \n",
    "    ?individual snp:id \"70136114\" ;\n",
    "    snp:title ?title ;\n",
    "    snp:description ?description ;\n",
    "    snp:releaseYear ?releaseYear ;\n",
    "    snp:category ?category .\n",
    "}\n",
    "'''\n",
    "\n",
    "get_response_from_local(PREFIXES + query)"
   ]
  },
  {
   "cell_type": "code",
   "execution_count": 12,
   "metadata": {},
   "outputs": [],
   "source": [
    "# 3. Menampilkan film tertentu secara remote berdasarkan ID dari data lokal\n",
    "# SEGERA HADIR"
   ]
  },
  {
   "cell_type": "code",
   "execution_count": 13,
   "metadata": {},
   "outputs": [],
   "source": [
    "# 4. Mengambil informasi yang  kurang dari film tersebut secara remote\n",
    "# SEGERA HADIR"
   ]
  },
  {
   "cell_type": "code",
   "execution_count": 14,
   "metadata": {},
   "outputs": [],
   "source": [
    "# 5. Menampilkan kepada pengguna\n",
    "# SEGERA HADIR"
   ]
  }
 ],
 "metadata": {
  "kernelspec": {
   "display_name": "Python 3",
   "language": "python",
   "name": "python3"
  },
  "language_info": {
   "codemirror_mode": {
    "name": "ipython",
    "version": 3
   },
   "file_extension": ".py",
   "mimetype": "text/x-python",
   "name": "python",
   "nbconvert_exporter": "python",
   "pygments_lexer": "ipython3",
   "version": "3.8.3"
  }
 },
 "nbformat": 4,
 "nbformat_minor": 4
}
