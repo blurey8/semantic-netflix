{
 "cells": [
  {
   "cell_type": "markdown",
   "metadata": {},
   "source": [
    "# Sample Query Runner\n",
    "\n",
    "Dirancang oleh: Tim Skulite  \n",
    "  \n",
    "Program ini akan berisi contoh penerapan pengambilan data secara lokal menggunakan Apache Jena Fuseki dan remote menggunakan data dari DBPedia / Wikidata"
   ]
  },
  {
   "cell_type": "markdown",
   "metadata": {},
   "source": [
    "## Query dari Server Lokal (Jena Fuseki)\n",
    "\n",
    "Jena Fuseki mendukung protokol HTTP untuk mengambil data yang ada didalamnya. Anggaplah Jena Fuseki seperti SQL Server (PostgreSQL, MySQL, lainnya) dan berkas berformat .ttl adalah berkas databasenya (misalnya .sqlite).  \n",
    "  \n",
    "Pertama harus dijalankan terlebih dahulu Jena Fusekinya. Setelah itu bisa mengambil datanya via HTTP dan kembaliannya adalah sebuah response dengan body-nya adalah datanya. Untuk menjalankan Jena Fuseki bisa menggunakan perintah di terminal *pada directory project*:\n",
    "\n",
    "```\n",
    "cd fuseki/\n",
    "./fuseki-server --file=../dataset/movies.ttl /ds\n",
    "```\n",
    "\n",
    "Proses ini akan membentuk in-memory instance dan tentunya hanya mendukung operasi READ (belum mencoba operasi lainnya). Setelah menjalankan Jena Fuseki, silakan lanjutkan menjalankan cell dibawah."
   ]
  },
  {
   "cell_type": "code",
   "execution_count": 1,
   "metadata": {},
   "outputs": [],
   "source": [
    "import json\n",
    "import requests"
   ]
  },
  {
   "cell_type": "code",
   "execution_count": 2,
   "metadata": {},
   "outputs": [],
   "source": [
    "# Fungsi untuk menjalankan query\n",
    "local_server_url = 'http://localhost:3030/ds/query'\n",
    "\n",
    "def get_response_from_local(query_to_send):\n",
    "    try:\n",
    "        response = requests.post(local_server_url, data={'query': query_to_send})\n",
    "        return response.json()['results']['bindings']\n",
    "    except ValueError:\n",
    "        print(\"JSON Bermasalah atau Jena Fuseki Return 400\")\n",
    "        return None\n",
    "    except:\n",
    "        print(\"Jena Fuseki belum dijalankan\")\n",
    "        return None"
   ]
  },
  {
   "cell_type": "code",
   "execution_count": 3,
   "metadata": {},
   "outputs": [
    {
     "data": {
      "text/plain": [
       "[{'s': {'type': 'uri', 'value': 'http://skulite.org/snr/The_L_Word'},\n",
       "  'p': {'type': 'uri', 'value': 'http://skulite.org/snp/country'},\n",
       "  'o': {'type': 'literal', 'value': 'Canada, United States'}},\n",
       " {'s': {'type': 'uri', 'value': 'http://skulite.org/snr/The_L_Word'},\n",
       "  'p': {'type': 'uri', 'value': 'http://skulite.org/snp/releaseYear'},\n",
       "  'o': {'type': 'literal', 'value': '2009'}},\n",
       " {'s': {'type': 'uri', 'value': 'http://skulite.org/snr/The_L_Word'},\n",
       "  'p': {'type': 'uri', 'value': 'http://skulite.org/snp/numOfSeasons'},\n",
       "  'o': {'type': 'literal', 'value': '6 Seasons'}},\n",
       " {'s': {'type': 'uri', 'value': 'http://skulite.org/snr/The_L_Word'},\n",
       "  'p': {'type': 'uri', 'value': 'http://skulite.org/snp/category'},\n",
       "  'o': {'type': 'literal', 'value': 'Romantic TV Shows, TV Dramas'}},\n",
       " {'s': {'type': 'uri', 'value': 'http://skulite.org/snr/The_L_Word'},\n",
       "  'p': {'type': 'uri', 'value': 'http://skulite.org/snp/title'},\n",
       "  'o': {'type': 'literal', 'value': 'The L Word'}}]"
      ]
     },
     "execution_count": 3,
     "metadata": {},
     "output_type": "execute_result"
    }
   ],
   "source": [
    "# Contoh query mendapatkan triple S P O dari server lokal\n",
    "get_response_from_local('SELECT * {?s ?p ?o} LIMIT 5')"
   ]
  },
  {
   "cell_type": "markdown",
   "metadata": {},
   "source": [
    "## Query dari Server Remote (DBpedia / Wikidata)\n",
    "\n",
    "Pengambilan data secara remote dapat menggunakan bantuan library bernama RDFLib. Pada contoh kali ini, akan dilakukan pengambilan data Michael Jackson dari Wikidata"
   ]
  },
  {
   "cell_type": "code",
   "execution_count": 4,
   "metadata": {},
   "outputs": [
    {
     "name": "stdout",
     "output_type": "stream",
     "text": [
      "Requirement already satisfied: rdflib in /home/diptadipsi/anaconda3/lib/python3.8/site-packages (5.0.0)\n",
      "Requirement already satisfied: pyparsing in /home/diptadipsi/anaconda3/lib/python3.8/site-packages (from rdflib) (2.4.7)\n",
      "Requirement already satisfied: six in /home/diptadipsi/anaconda3/lib/python3.8/site-packages (from rdflib) (1.15.0)\n",
      "Requirement already satisfied: isodate in /home/diptadipsi/anaconda3/lib/python3.8/site-packages (from rdflib) (0.6.0)\n"
     ]
    }
   ],
   "source": [
    "!pip install rdflib"
   ]
  },
  {
   "cell_type": "code",
   "execution_count": 5,
   "metadata": {},
   "outputs": [],
   "source": [
    "# Import library yang diperlukan\n",
    "from rdflib import Graph, URIRef\n",
    "from rdflib.namespace import RDFS\n",
    "from rdflib.plugins.stores.sparqlstore import SPARQLStore"
   ]
  },
  {
   "cell_type": "code",
   "execution_count": 6,
   "metadata": {},
   "outputs": [],
   "source": [
    "# Load Datastore DBPedia dan Wikidata\n",
    "data_graph_dbpedia = Graph(SPARQLStore(\"http://dbpedia.org/sparql\", context_aware=False))"
   ]
  },
  {
   "cell_type": "code",
   "execution_count": 7,
   "metadata": {},
   "outputs": [
    {
     "name": "stdout",
     "output_type": "stream",
     "text": [
      "http://dbpedia.org/resource/4000_Miles\n",
      "http://dbpedia.org/resource/The_Man_Who_Came_Back\n",
      "http://dbpedia.org/resource/12_Monkeys\n",
      "http://dbpedia.org/resource/Airplane!\n",
      "http://dbpedia.org/resource/American_Beauty_(1999_film)\n"
     ]
    }
   ],
   "source": [
    "# Menjalankan query sederhana\n",
    "result = data_graph_dbpedia.query(\\\n",
    "'''\n",
    "SELECT * WHERE {\n",
    "    ?film rdf:type dbo:Film .\n",
    "}\n",
    "LIMIT 5\n",
    "''')\n",
    "\n",
    "for row, *_ in result:\n",
    "    print(row)"
   ]
  },
  {
   "cell_type": "markdown",
   "metadata": {},
   "source": [
    "## Query Secara Gabungan\n",
    "\n",
    "Pada bagian ini akan dicoba mengambil data film yang sudah ada di dataset lokal, kemudian menambahkan informasi yang belum ada dari sumber remote yang kemudian hasil akhir pengolahan akan ditampilkan ke pengguna  \n",
    "  \n",
    "Ada 4 tahap yang akan coba dicover\n",
    "\n",
    "1. Mengambil beberapa film + id nya yang tersedia secara lokal\n",
    "2. Menampilkan sedikit detail dari film dataset lokal berdasarkan ID\n",
    "3. Menampilkan film tertentu secara remote berdasarkan ID dari data lokal\n",
    "4. Menggabungkan hasil query lokal dengan remote"
   ]
  },
  {
   "cell_type": "code",
   "execution_count": 8,
   "metadata": {},
   "outputs": [],
   "source": [
    "# Mendefinisikan URI untuk query (INI PENTING)\n",
    "PREFIXES = \\\n",
    "'''\n",
    "PREFIX snr: <http://skulite.org/snr/>\n",
    "PREFIX snp: <http://skulite.org/snp/>\n",
    "PREFIX owl: <http://www.w3.org/2002/07/owl#>\n",
    "PREFIX rdf: <http://www.w3.org/1999/02/22-rdf-syntax-ns#>\n",
    "PREFIX rdfs: <http://www.w3.org/2000/01/rdf-schema#>\n",
    "PREFIX xsd: <http://www.w3.org/2001/XMLSchema#>\n",
    "PREFIX dbr: <http://dbpedia.org/resource/>\n",
    "'''"
   ]
  },
  {
   "cell_type": "markdown",
   "metadata": {},
   "source": [
    "### 1. Mengambil beberapa film + id nya dari dataset lokal\n",
    "Pada bagian ini akan melakukan pengambilan data dari dataset lokal"
   ]
  },
  {
   "cell_type": "code",
   "execution_count": 9,
   "metadata": {},
   "outputs": [],
   "source": [
    "query = \\\n",
    "'''\n",
    "SELECT *\n",
    "WHERE { \n",
    "    ?individual rdf:type snr:Film ;\n",
    "    snp:id ?id .\n",
    "}\n",
    "LIMIT 5\n",
    "'''\n",
    "all_films = get_response_from_local(PREFIXES + query)"
   ]
  },
  {
   "cell_type": "code",
   "execution_count": 10,
   "metadata": {},
   "outputs": [
    {
     "data": {
      "text/plain": [
       "[{'individual': {'type': 'uri',\n",
       "   'value': 'http://skulite.org/snr/A_Murder_in_the_Park'},\n",
       "  'id': {'type': 'literal', 'value': '80044562'}},\n",
       " {'individual': {'type': 'uri', 'value': 'http://skulite.org/snr/Jailbreak'},\n",
       "  'id': {'type': 'literal', 'value': '80990658'}},\n",
       " {'individual': {'type': 'uri', 'value': 'http://skulite.org/snr/Cristina'},\n",
       "  'id': {'type': 'literal', 'value': '80076160'}},\n",
       " {'individual': {'type': 'uri', 'value': 'http://skulite.org/snr/I_Am_Wrath'},\n",
       "  'id': {'type': 'literal', 'value': '80058248'}},\n",
       " {'individual': {'type': 'uri',\n",
       "   'value': 'http://skulite.org/snr/Puriyatha_Puthir'},\n",
       "  'id': {'type': 'literal', 'value': '81052279'}}]"
      ]
     },
     "execution_count": 10,
     "metadata": {},
     "output_type": "execute_result"
    }
   ],
   "source": [
    "all_films"
   ]
  },
  {
   "cell_type": "markdown",
   "metadata": {},
   "source": [
    "### 2. Menampilkan sedikit detail dari film dataset lokal berdasarkan ID.  \n",
    "Pada bagian ini akan melakukan pengambilan beberapa informasi detail dari film  \n",
    "Contoh: use case ketika user klik salah satu film dengan ID: 80044562"
   ]
  },
  {
   "cell_type": "code",
   "execution_count": 11,
   "metadata": {},
   "outputs": [],
   "source": [
    "query = \\\n",
    "'''\n",
    "SELECT * WHERE { \n",
    "    ?uri snp:id \"80044562\" ;\n",
    "    snp:title ?title ;\n",
    "    snp:director ?director ;\n",
    "    snp:country ?country ;\n",
    "    snp:dateAdded ?dateAdded ;\n",
    "    snp:releaseYear ?releaseYear ;\n",
    "    snp:rating ?rating ;\n",
    "    snp:category ?category ;\n",
    "    snp:description ?description ;\n",
    "    OPTIONAL {\n",
    "        ?uri snp:duration ?duration .\n",
    "    }\n",
    "    OPTIONAL {\n",
    "        ?uri snp:numOfSeasons ?season .\n",
    "    }    \n",
    "}\n",
    "'''\n",
    "local_query_result = get_response_from_local(PREFIXES + query)[0]"
   ]
  },
  {
   "cell_type": "code",
   "execution_count": 12,
   "metadata": {},
   "outputs": [
    {
     "data": {
      "text/plain": [
       "{'uri': {'type': 'uri',\n",
       "  'value': 'http://skulite.org/snr/A_Murder_in_the_Park'},\n",
       " 'title': {'type': 'literal', 'value': 'A Murder in the Park'},\n",
       " 'director': {'type': 'literal',\n",
       "  'value': 'Christopher S. Rech, Brandon Kimber'},\n",
       " 'country': {'type': 'literal', 'value': 'United States'},\n",
       " 'dateAdded': {'type': 'literal', 'value': '2017-04-28'},\n",
       " 'releaseYear': {'type': 'literal', 'value': '2014'},\n",
       " 'rating': {'type': 'literal', 'value': 'PG-13'},\n",
       " 'category': {'type': 'literal', 'value': 'Documentaries'},\n",
       " 'description': {'type': 'literal',\n",
       "  'value': 'This documentary excoriates a noted anti-death-penalty activist and his team, whose questionable methods got a convicted killer freed in 1999.'},\n",
       " 'duration': {'type': 'literal', 'value': '91 min'}}"
      ]
     },
     "execution_count": 12,
     "metadata": {},
     "output_type": "execute_result"
    }
   ],
   "source": [
    "local_query_result"
   ]
  },
  {
   "cell_type": "markdown",
   "metadata": {},
   "source": [
    "### 3. Menampilkan film tertentu secara remote berdasarkan ID dari data lokal\n",
    "Pada bagian ini akan melakukan pengambilan data film secara remote berdasarkan ID dari konten tertentu"
   ]
  },
  {
   "cell_type": "code",
   "execution_count": 13,
   "metadata": {},
   "outputs": [],
   "source": [
    "# Ambil nama individunya terlebih dahulu (Misal ID: 80044562)\n",
    "\n",
    "local_query = \\\n",
    "'''\n",
    "SELECT *\n",
    "WHERE { \n",
    "    ?individual snp:id \"80044562\" ;\n",
    "}\n",
    "'''\n",
    "individual = get_response_from_local(PREFIXES + local_query)\n",
    "movie_name = individual[0]['individual']['value'].split(\"/\")[-1]"
   ]
  },
  {
   "cell_type": "code",
   "execution_count": 14,
   "metadata": {},
   "outputs": [],
   "source": [
    "# Mengambil informasi terkait distributor, producer, dan homepage dari film tersebut\n",
    "\n",
    "remote_query = \\\n",
    "'''\n",
    "SELECT * WHERE {\n",
    "    OPTIONAL {\n",
    "        dbr:%s dbo:distributor ?distributor .\n",
    "    }\n",
    "    OPTIONAL {\n",
    "        dbr:%s dbo:producer ?producer .\n",
    "    }\n",
    "    OPTIONAL {\n",
    "        dbr:%s foaf:homepage ?homepage .\n",
    "    }\n",
    "}\n",
    "''' % (movie_name, movie_name, movie_name)\n",
    "remote_query_result = data_graph_dbpedia.query(PREFIXES + remote_query)"
   ]
  },
  {
   "cell_type": "code",
   "execution_count": 15,
   "metadata": {},
   "outputs": [],
   "source": [
    "for row in remote_query_result:\n",
    "    print(row)\n",
    "    \n",
    "# Catatan: Jika tidak ada return apapun berarti memang hasil querynya adalah data kosong"
   ]
  },
  {
   "cell_type": "markdown",
   "metadata": {},
   "source": [
    "### 4. Menggabungkan hasil query lokal dengan remote\n",
    "Pada bagian ini akan dilakukan penggabungan hasil query dari data lokal dengan hasil query dari data remote dalam bentuk Python dictionary"
   ]
  },
  {
   "cell_type": "code",
   "execution_count": 16,
   "metadata": {},
   "outputs": [],
   "source": [
    "movie_details = {}\n",
    "\n",
    "# Menyimpan hasil query data lokal dalam bentuk dictionary\n",
    "for key in local_query_result:\n",
    "    movie_details[key] = local_query_result[key]['value']\n",
    "\n",
    "\n",
    "# Menyimpan hasil query dalam bentuk dictionary\n",
    "\n",
    "# dictlabels={}\n",
    "for row in remote_query_result:\n",
    "    movie_details['distributor'] = row.distributor\n",
    "    movie_details['producer'] = row.producer\n",
    "    movie_details['homepage'] = row.homepage"
   ]
  },
  {
   "cell_type": "code",
   "execution_count": 17,
   "metadata": {},
   "outputs": [
    {
     "data": {
      "text/plain": [
       "{'uri': 'http://skulite.org/snr/A_Murder_in_the_Park',\n",
       " 'title': 'A Murder in the Park',\n",
       " 'director': 'Christopher S. Rech, Brandon Kimber',\n",
       " 'country': 'United States',\n",
       " 'dateAdded': '2017-04-28',\n",
       " 'releaseYear': '2014',\n",
       " 'rating': 'PG-13',\n",
       " 'category': 'Documentaries',\n",
       " 'description': 'This documentary excoriates a noted anti-death-penalty activist and his team, whose questionable methods got a convicted killer freed in 1999.',\n",
       " 'duration': '91 min'}"
      ]
     },
     "execution_count": 17,
     "metadata": {},
     "output_type": "execute_result"
    }
   ],
   "source": [
    "movie_details"
   ]
  }
 ],
 "metadata": {
  "kernelspec": {
   "display_name": "Python 3",
   "language": "python",
   "name": "python3"
  },
  "language_info": {
   "codemirror_mode": {
    "name": "ipython",
    "version": 3
   },
   "file_extension": ".py",
   "mimetype": "text/x-python",
   "name": "python",
   "nbconvert_exporter": "python",
   "pygments_lexer": "ipython3",
   "version": "3.8.3"
  }
 },
 "nbformat": 4,
 "nbformat_minor": 4
}
